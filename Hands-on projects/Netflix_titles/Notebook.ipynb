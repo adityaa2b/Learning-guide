{
  "cells": [
    {
      "cell_type": "code",
      "source": [
        "%%pyspark\n",
        "\n",
        "Netflixtiles = spark.sql(\"select * FROM `netflixtilesDB`.`Netflixtiles`\") #select complete data into a variable\n",
        "Netflixtiles_count = spark.sql(\"select count(*) FROM `netflixtilesDB`.`Netflixtiles`\") #get the count of records before changes\n",
        "Netflixtiles_count.show() #dispaly the count of records before changes\n"
      ],
      "outputs": [
        {
          "output_type": "display_data",
          "data": {
            "application/vnd.livy.statement-meta+json": {
              "spark_pool": "NetflixTilesSP",
              "statement_id": 51,
              "statement_ids": [
                51
              ],
              "state": "finished",
              "livy_statement_state": "available",
              "spark_jobs": null,
              "session_id": "3",
              "normalized_state": "finished",
              "queued_time": "2025-02-15T13:45:25.3461493Z",
              "session_start_time": null,
              "execution_start_time": "2025-02-15T13:45:25.4584375Z",
              "execution_finish_time": "2025-02-15T13:45:26.0176349Z",
              "parent_msg_id": "bf79cae6-157f-4440-9798-d08ae71a3c7f"
            },
            "text/plain": "StatementMeta(NetflixTilesSP, 3, 51, Finished, Available, Finished)"
          },
          "metadata": {}
        },
        {
          "output_type": "stream",
          "name": "stdout",
          "text": [
            "+--------+\n|count(1)|\n+--------+\n|    8809|\n+--------+\n\n"
          ]
        }
      ],
      "execution_count": 50,
      "metadata": {
        "microsoft": {
          "language": "python"
        },
        "jupyter": {
          "outputs_hidden": false
        }
      }
    },
    {
      "cell_type": "code",
      "source": [
        "Netflixtiles_modified_count = spark.sql(\"select count(*) FROM `netflixtilesDB`.`Netflixtiles`where country is not null\") #get the count of records that should be after changes\r\n",
        "Netflixtiles_modified_count.show()#dispaly the count of records\r\n"
      ],
      "outputs": [
        {
          "output_type": "display_data",
          "data": {
            "application/vnd.livy.statement-meta+json": {
              "spark_pool": "NetflixTilesSP",
              "statement_id": 52,
              "statement_ids": [
                52
              ],
              "state": "finished",
              "livy_statement_state": "available",
              "spark_jobs": null,
              "session_id": "3",
              "normalized_state": "finished",
              "queued_time": "2025-02-15T13:45:28.0133631Z",
              "session_start_time": null,
              "execution_start_time": "2025-02-15T13:45:28.111924Z",
              "execution_finish_time": "2025-02-15T13:45:28.724387Z",
              "parent_msg_id": "19415f9f-8517-4ee1-b6a0-472e035fe76d"
            },
            "text/plain": "StatementMeta(NetflixTilesSP, 3, 52, Finished, Available, Finished)"
          },
          "metadata": {}
        },
        {
          "output_type": "stream",
          "name": "stdout",
          "text": [
            "+--------+\n|count(1)|\n+--------+\n|    7977|\n+--------+\n\n"
          ]
        }
      ],
      "execution_count": 51,
      "metadata": {
        "jupyter": {
          "source_hidden": false,
          "outputs_hidden": false
        },
        "nteract": {
          "transient": {
            "deleting": false
          }
        }
      }
    },
    {
      "cell_type": "code",
      "source": [
        "Netflixtiles_modified = spark.sql(\"select * FROM `netflixtilesDB`.`Netflixtiles` where country is not null\") #query for the required modified data\r\n",
        "Netflixtiles_modified.write.mode(\"overwrite\").saveAsTable(\"netflixtilesdb.netflixtiles_tmp\") #overwrite the existing table data based on above modification"
      ],
      "outputs": [
        {
          "output_type": "display_data",
          "data": {
            "application/vnd.livy.statement-meta+json": {
              "spark_pool": "NetflixTilesSP",
              "statement_id": 62,
              "statement_ids": [
                62
              ],
              "state": "finished",
              "livy_statement_state": "available",
              "spark_jobs": null,
              "session_id": "3",
              "normalized_state": "finished",
              "queued_time": "2025-02-15T13:53:34.8319764Z",
              "session_start_time": null,
              "execution_start_time": "2025-02-15T13:53:34.9305635Z",
              "execution_finish_time": "2025-02-15T13:53:37.804785Z",
              "parent_msg_id": "f87d3d01-ceb6-44c7-acb9-92e9612c5e3b"
            },
            "text/plain": "StatementMeta(NetflixTilesSP, 3, 62, Finished, Available, Finished)"
          },
          "metadata": {}
        }
      ],
      "execution_count": 61,
      "metadata": {
        "jupyter": {
          "source_hidden": false,
          "outputs_hidden": false
        },
        "nteract": {
          "transient": {
            "deleting": false
          }
        }
      }
    },
    {
      "cell_type": "code",
      "source": [
        "spark.sql(\"DROP TABLE IF EXISTS netflixtilesdb.netflixtiles\")  #drop the existing table\r\n",
        "spark.sql(\"ALTER TABLE netflixtilesdb.netflixtiles_tmp RENAME TO netflixtilesdb.netflixtiles\") # then rename the tmp table to original table"
      ],
      "outputs": [
        {
          "output_type": "display_data",
          "data": {
            "application/vnd.livy.statement-meta+json": {
              "spark_pool": "NetflixTilesSP",
              "statement_id": 64,
              "statement_ids": [
                64
              ],
              "state": "finished",
              "livy_statement_state": "available",
              "spark_jobs": null,
              "session_id": "3",
              "normalized_state": "finished",
              "queued_time": "2025-02-15T13:54:58.8399207Z",
              "session_start_time": null,
              "execution_start_time": "2025-02-15T13:54:58.9358712Z",
              "execution_finish_time": "2025-02-15T13:55:01.8293185Z",
              "parent_msg_id": "4890e7e2-1c58-4115-8478-fbbdf6db4486"
            },
            "text/plain": "StatementMeta(NetflixTilesSP, 3, 64, Finished, Available, Finished)"
          },
          "metadata": {}
        },
        {
          "output_type": "execute_result",
          "execution_count": 129,
          "data": {
            "text/plain": "DataFrame[]"
          },
          "metadata": {}
        }
      ],
      "execution_count": 63,
      "metadata": {
        "jupyter": {
          "source_hidden": false,
          "outputs_hidden": false
        },
        "nteract": {
          "transient": {
            "deleting": false
          }
        }
      }
    },
    {
      "cell_type": "code",
      "source": [
        "Netflixtiles_count = spark.sql(\"select count(*) FROM `netflixtilesDB`.`Netflixtiles`\") #get the count of records after changes\r\n",
        "Netflixtiles_count.show()"
      ],
      "outputs": [
        {
          "output_type": "display_data",
          "data": {
            "application/vnd.livy.statement-meta+json": {
              "spark_pool": "NetflixTilesSP",
              "statement_id": 65,
              "statement_ids": [
                65
              ],
              "state": "finished",
              "livy_statement_state": "available",
              "spark_jobs": null,
              "session_id": "3",
              "normalized_state": "finished",
              "queued_time": "2025-02-15T13:55:04.0289626Z",
              "session_start_time": null,
              "execution_start_time": "2025-02-15T13:55:04.124492Z",
              "execution_finish_time": "2025-02-15T13:55:09.58921Z",
              "parent_msg_id": "20777411-40b4-40b7-9e85-3dd19b2d32b4"
            },
            "text/plain": "StatementMeta(NetflixTilesSP, 3, 65, Finished, Available, Finished)"
          },
          "metadata": {}
        },
        {
          "output_type": "stream",
          "name": "stdout",
          "text": [
            "+--------+\n|count(1)|\n+--------+\n|    7977|\n+--------+\n\n"
          ]
        }
      ],
      "execution_count": 64,
      "metadata": {
        "jupyter": {
          "source_hidden": false,
          "outputs_hidden": false
        },
        "nteract": {
          "transient": {
            "deleting": false
          }
        }
      }
    },
    {
      "cell_type": "code",
      "source": [
        "#export data into csv file to the transformed data folder created under container\r\n",
        "Netflixtiles.repartition(1).write.mode(\"overwrite\").option(\"header\",'true').csv(\"abfss://netflix-titles-data@netflixtitlesdata.dfs.core.windows.net/transformed-data/Netflixtiles\")"
      ],
      "outputs": [
        {
          "output_type": "display_data",
          "data": {
            "application/vnd.livy.statement-meta+json": {
              "spark_pool": "NetflixTilesSP",
              "statement_id": 66,
              "statement_ids": [
                66
              ],
              "state": "finished",
              "livy_statement_state": "available",
              "spark_jobs": null,
              "session_id": "3",
              "normalized_state": "finished",
              "queued_time": "2025-02-15T13:57:37.1082118Z",
              "session_start_time": null,
              "execution_start_time": "2025-02-15T13:57:37.2090526Z",
              "execution_finish_time": "2025-02-15T13:57:39.1206824Z",
              "parent_msg_id": "6e02b380-35dd-4ff2-81e9-2b8d994eac2b"
            },
            "text/plain": "StatementMeta(NetflixTilesSP, 3, 66, Finished, Available, Finished)"
          },
          "metadata": {}
        }
      ],
      "execution_count": 65,
      "metadata": {
        "jupyter": {
          "source_hidden": false,
          "outputs_hidden": false
        },
        "nteract": {
          "transient": {
            "deleting": false
          }
        }
      }
    }
  ],
  "metadata": {
    "language_info": {
      "name": "python"
    },
    "kernelspec": {
      "name": "synapse_pyspark",
      "language": "Python",
      "display_name": "Synapse PySpark"
    },
    "kernel_info": {
      "name": "synapse_pyspark"
    },
    "save_output": true,
    "synapse_widget": {
      "version": "0.1",
      "state": {}
    }
  },
  "nbformat": 4,
  "nbformat_minor": 2
}
